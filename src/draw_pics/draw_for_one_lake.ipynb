{
 "cells": [
  {
   "cell_type": "code",
   "execution_count": 1,
   "metadata": {},
   "outputs": [],
   "source": [
    "import pandas as pd\n",
    "import torch\n",
    "import os\n",
    "import sys\n",
    "sys.path.append('../../data')\n",
    "sys.path.append('../data')\n",
    "sys.path.append('../../models')\n",
    "sys.path.append('../models')\n",
    "sys.path.append('../../utils')\n",
    "sys.path.append('../utils')\n",
    "sys.path.append('../../evaluate')\n",
    "sys.path.append('../evaluate')\n",
    "from train_utils import set_seed, random_seed\n",
    "from predict_group import draw_one_lake_beauty, draw_one_lake_beauty_new"
   ]
  },
  {
   "cell_type": "code",
   "execution_count": 2,
   "metadata": {},
   "outputs": [],
   "source": [
    "# 读取 id \n",
    "def draw_pic(model_index, lake_id, group_id, use_index):\n",
    "    seed = random_seed[model_index - 1]\n",
    "    set_seed(seed)\n",
    "\n",
    "    lstm_model_path = f'time-series/{lake_id}/model/lstm/seed={seed}/model'\n",
    "    pril_model_path = f'time-series/{lake_id}/model/pril/seed={seed}/model' # PGRNN \n",
    "    april_model_path = f'time-series/{lake_id}/model/april/seed={seed}/model'\n",
    "    transformer_model_path = f'time-series/{lake_id}/model/transformer/seed={seed}/model'\n",
    "\n",
    "    model_dir_list = [lstm_model_path, pril_model_path, april_model_path, transformer_model_path]\n",
    "    model_name = ['LSTM', 'Pril', 'April', 'Transformer'] \n",
    "    # model_dir_list = [lstm_model_path, pril_model_path, april_model_path]\n",
    "    # model_name = ['LSTM', 'Pril', 'April'] \n",
    "\n",
    "    base_save = f'figure/time_series/{lake_id}_seed={seed}/'\n",
    "    for i, model_dir in enumerate(model_dir_list):\n",
    "        save_path_main = base_save + model_name[i]\n",
    "        if not os.path.exists(save_path_main): \n",
    "            os.makedirs(save_path_main)\n",
    "        \n",
    "        # draw_one_lake_beauty(seed, model_dir, save_path_main, lake_id, model_name[i], 0, True)\n",
    "\n",
    "        draw_one_lake_beauty_new(lake_id, model_name[i], save_path_main, use_index)\n",
    "\n",
    "draw_pic(model_index=2, lake_id='nhdhr_120018061', group_id=1, use_index=0) # use_index indicate which year in test data you want to draw\n",
    "draw_pic(model_index=2, lake_id='nhdhr_120018092', group_id=1, use_index=0)\n",
    "draw_pic(model_index=1, lake_id='nhdhr_32671150', group_id=2, use_index=2)"
   ]
  },
  {
   "cell_type": "markdown",
   "metadata": {},
   "source": []
  }
 ],
 "metadata": {
  "kernelspec": {
   "display_name": "oxygen_env",
   "language": "python",
   "name": "python3"
  },
  "language_info": {
   "codemirror_mode": {
    "name": "ipython",
    "version": 3
   },
   "file_extension": ".py",
   "mimetype": "text/x-python",
   "name": "python",
   "nbconvert_exporter": "python",
   "pygments_lexer": "ipython3",
   "version": "3.8.0"
  }
 },
 "nbformat": 4,
 "nbformat_minor": 2
}
